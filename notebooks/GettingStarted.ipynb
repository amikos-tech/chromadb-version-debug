{
 "cells": [
  {
   "cell_type": "code",
   "execution_count": null,
   "id": "initial_id",
   "metadata": {
    "collapsed": true
   },
   "outputs": [],
   "source": [
    "import chromadb\n",
    "\n",
    "# Chroma server is available at http://chroma:8000\n",
    "client = chromadb.HttpClient(host=\"chroma\")\n",
    "\n",
    "print(\"Chroma server is running: \",client.get_version())"
   ]
  },
  {
   "cell_type": "code",
   "outputs": [],
   "source": [
    "col = client.get_or_create_collection('test')\n",
    "col.upsert(ids=[\"3\"],documents=[\"test1\"],metadatas=[{\"attr\":1}])"
   ],
   "metadata": {
    "collapsed": false
   },
   "id": "519e2295a008b05a"
  }
 ],
 "metadata": {
  "kernelspec": {
   "display_name": "Python 3",
   "language": "python",
   "name": "python3"
  },
  "language_info": {
   "codemirror_mode": {
    "name": "ipython",
    "version": 2
   },
   "file_extension": ".py",
   "mimetype": "text/x-python",
   "name": "python",
   "nbconvert_exporter": "python",
   "pygments_lexer": "ipython2",
   "version": "2.7.6"
  }
 },
 "nbformat": 4,
 "nbformat_minor": 5
}
